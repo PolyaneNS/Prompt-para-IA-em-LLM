{
 "cells": [
  {
   "cell_type": "code",
   "execution_count": 13,
   "id": "0291d929-b273-44cb-82cc-a5d72ce611d1",
   "metadata": {},
   "outputs": [
    {
     "name": "stdout",
     "output_type": "stream",
     "text": [
      "['Daniela Lima', 'Eduardo Carvalho', 'Eduardo Gomes', 'Olivia Costa', 'Fernanda Almeida', 'Marina Barbosa', 'Marina Santos', 'Ana Costa', 'Marina Almeida', 'Marina Santos', 'Julia Costa']\n",
      "['gestão processos', 'estratégias relatórios riscos eficiência', 'negócios relatórios riscos processos modelos', 'operações informações modelos processos', 'relatórios inovação dados', 'análise relatórios gestão operações', 'gestão eficiência relatórios indicadores inovação', 'relatórios modelos indicadores operações', 'análise estratégias gestão inovação dados', 'análise relatórios indicadores', 'inteligência inovação eficiência']\n",
      "             usuario                                        frases_area\n",
      "0       Daniela Lima                                   gestão processos\n",
      "1   Eduardo Carvalho           estratégias relatórios riscos eficiência\n",
      "2      Eduardo Gomes       negócios relatórios riscos processos modelos\n",
      "3       Olivia Costa            operações informações modelos processos\n",
      "4   Fernanda Almeida                          relatórios inovação dados\n",
      "5     Marina Barbosa                análise relatórios gestão operações\n",
      "6      Marina Santos  gestão eficiência relatórios indicadores inovação\n",
      "7          Ana Costa           relatórios modelos indicadores operações\n",
      "8     Marina Almeida          análise estratégias gestão inovação dados\n",
      "9      Marina Santos                     análise relatórios indicadores\n",
      "10       Julia Costa                   inteligência inovação eficiência\n"
     ]
    }
   ],
   "source": [
    "import pandas as pd\n",
    "import random\n",
    "\n",
    "# ---------- Gera 10 nomes aleatórios ----------\n",
    "primeiros_nomes = [\"Ana\", \"Bruno\", \"Carlos\", \"Daniela\", \"Eduardo\", \"Fernanda\", \"Gabriel\", \"Helena\", \"Igor\", \"Julia\", \"Karen\", \"Luiz\", \"Marina\", \"Nicolas\", \"Olivia\"]\n",
    "sobrenomes = [\"Souza\", \"Pereira\", \"Silva\", \"Oliveira\", \"Costa\", \"Ribeiro\", \"Carvalho\", \"Lima\", \"Gomes\", \"Melo\", \"Barbosa\", \"Almeida\", \"Santos\", \"Rocha\", \"Teixeira\"]\n",
    "nomes_aleatorios = [f\"{random.choice(primeiros_nomes)} {random.choice(sobrenomes)}\" for _ in range(11)]\n",
    "print(nomes_aleatorios)\n",
    "# ================================================\n",
    "\n",
    "# ---------- Gera 11 frases aleatórias ----------\n",
    "palavras = [\"análise\", \"dados\", \"relatórios\", \"gestão\", \"indicadores\", \"processos\", \"negócios\", \"modelos\", \"inteligência\", \"informações\", \"estratégias\", \"operações\", \"riscos\", \"eficiência\", \"inovação\"]\n",
    "frases_aleatorias = [\n",
    "    \" \".join(random.sample(palavras, k=random.randint(2, 5)))  # frases com 2 a 5 palavras\n",
    "    for _ in range(11)\n",
    "]\n",
    "print(frases_aleatorias)\n",
    "# ================================================\n",
    "\n",
    "# ---------- Cria o DataFrame ----------\n",
    "tabela = pd.DataFrame({\n",
    "    \"usuario\": nomes_aleatorios,\n",
    "    \"frases_area\": frases_aleatorias\n",
    "})\n",
    "desliga tua \n",
    "print(tabela)\n",
    "# ================================================"
   ]
  },
  {
   "cell_type": "code",
   "execution_count": null,
   "id": "8dbe2423-538d-4f26-a84b-8698cfda32cf",
   "metadata": {},
   "outputs": [],
   "source": [
    "pip install openai   #instalando a biblioteca do openai\n",
    "\n",
    "import time\n",
    "import openai        #importando a openai p/ usar a API key\n",
    "import os\n",
    "\n",
    "# Defina sua chave de API (nunca compartilhe publicamente!)\n",
    "os.environ[\"OPENAI_API_KEY\"] = \"sua_key\""
   ]
  },
  {
   "cell_type": "code",
   "execution_count": null,
   "id": "adce3add-7c2c-4e2c-8b3d-b7f467fbb5c9",
   "metadata": {},
   "outputs": [],
   "source": [
    "from openai import OpenAI\n",
    "\n",
    "# ================================================\n",
    "# Cria o cliente\n",
    "# ================================================\n",
    "\n",
    "# ================================================\n",
    "#Esse cliente serve para Autenticar suas requisições (usando sua API key); \n",
    "#Manter a configuração (modelo padrão, headers, tempo limite, etc.);\n",
    "#Gerenciar o envio e retorno de dados entre o seu código e os servidores da OpenAI.\n",
    "# ================================================\n",
    "\n",
    "client = OpenAI(api_key=os.environ[\"OPENAI_API_KEY\"])  \n",
    "\n",
    "# ================================================\n",
    "#A API da OpenAI é o meio pelo qual você conversa com os LLMs (Large Language Models), como GPT-4, GPT-4o, etc.\n",
    "#Cada vez que você envia um prompt, você está usando a API para acessar o poder computacional e linguístico desses modelos.\n",
    "# ================================================\n",
    "\n",
    "# ================================================\n",
    "#API\t  -- Ponte que conecta seu código aos servidores da OpenAI\n",
    "#API Key  -- Sua “senha” pessoal para autenticar e controlar uso\n",
    "#Client\t  -- Objeto Python que envia as mensagens para a API\n",
    "#3Prompt  -- O texto que você envia (pedido)\n",
    "#Response -- A resposta que o modelo retorna\n",
    "# ================================================"
   ]
  },
  {
   "cell_type": "code",
   "execution_count": null,
   "id": "2eafa71d-f29e-4d63-a7fd-fbe6263910ee",
   "metadata": {},
   "outputs": [],
   "source": [
    "#Acompanhe seus gastos em tempo real em https://platform.openai.com/usage"
   ]
  },
  {
   "cell_type": "code",
   "execution_count": null,
   "id": "e2d8da75-53a3-4f71-92c6-0795390bdf6f",
   "metadata": {},
   "outputs": [],
   "source": [
    "\n",
    "\n",
    "\n",
    "def analise_frases(i):\n",
    "    time.sleep(0.5)\n",
    "    try:\n",
    "        a = tabela[i][\"frases_areas\"]  # pega a frase\n",
    "        prompt = f\"\"\"\n",
    "Você é um especialista em análise de dados para negócios e tem a capacidade de analisar descrições de funções em cargos corporativos.\n",
    "Analise a frase da área: \"{a}\" e dê um nome simples que descreva essa área.\n",
    "\"\"\"\n",
    "\n",
    "        response = client.chat.completions.create(\n",
    "            model=\"gpt-4o-mini\",\n",
    "            messages=[{\"role\": \"user\", \"content\": prompt}]\n",
    "        )\n",
    "\n",
    "        # extrai e retorna o texto gerado\n",
    "        resposta = response.choices[0].message.content.strip()\n",
    "        print(f\"Frase: {a}\\nÁrea sugerida: {resposta}\\n\")\n",
    "\n",
    "        return resposta\n",
    "\n",
    "    except Exception as e:            # Esse comando mostra um print com o erro e a linha onde ocorreu o erro\n",
    "    import traceback\n",
    "    print(f\"Erro ao processar o índice {i}:\")\n",
    "    traceback.print_exc()\n",
    "    return None"
   ]
  },
  {
   "cell_type": "code",
   "execution_count": 11,
   "id": "799607ee-9909-4a51-98ba-bf4c75fabf44",
   "metadata": {},
   "outputs": [
    {
     "name": "stdout",
     "output_type": "stream",
     "text": [
      "['Daniela Gomes', 'Olivia Carvalho', 'Helena Rocha', 'Bruno Costa', 'Marina Pereira', 'Bruno Barbosa', 'Marina Santos', 'Eduardo Melo', 'Gabriel Costa', 'Julia Souza', 'Olivia Lima']\n",
      "['negócios informações', 'processos indicadores gestão inteligência estratégias', 'informações relatórios riscos processos', 'processos gestão operações', 'riscos gestão modelos estratégias', 'estratégias inovação indicadores informações', 'eficiência indicadores', 'operações relatórios análise eficiência negócios', 'negócios inovação operações modelos riscos', 'análise gestão estratégias', 'dados estratégias análise gestão relatórios']\n",
      "            usuario                                        frases_area\n",
      "0     Daniela Gomes                               negócios informações\n",
      "1   Olivia Carvalho  processos indicadores gestão inteligência estr...\n",
      "2      Helena Rocha            informações relatórios riscos processos\n",
      "3       Bruno Costa                         processos gestão operações\n",
      "4    Marina Pereira                  riscos gestão modelos estratégias\n",
      "5     Bruno Barbosa       estratégias inovação indicadores informações\n",
      "6     Marina Santos                             eficiência indicadores\n",
      "7      Eduardo Melo   operações relatórios análise eficiência negócios\n",
      "8     Gabriel Costa         negócios inovação operações modelos riscos\n",
      "9       Julia Souza                         análise gestão estratégias\n",
      "10      Olivia Lima        dados estratégias análise gestão relatórios\n"
     ]
    }
   ],
   "source": [
    "# ================================================\n",
    "# 4. Aplica a função e cria nova coluna com as respostas\n",
    "# ================================================\n",
    "tabela[\"area_ia\"] = [analise_frases(i) for i in range(len(tabela))]\n",
    "\n",
    "# ================================================\n",
    "# 5. Exibe e salva o novo DataFrame\n",
    "# ================================================\n",
    "print(\"\\n===== DataFrame final =====\\n\")\n",
    "print(tabela)\n",
    "\n",
    "# salva como CSV\n",
    "tabela.to_csv(\"analise_areas_ia.csv\", index=False)\n",
    "print(\"\\nArquivo 'analise_areas_ia.csv' salvo com sucesso!\")"
   ]
  },
  {
   "cell_type": "code",
   "execution_count": null,
   "id": "891739d8-58ee-44e5-a31d-e85859bde1d7",
   "metadata": {},
   "outputs": [],
   "source": []
  }
 ],
 "metadata": {
  "kernelspec": {
   "display_name": "Python [conda env:base] *",
   "language": "python",
   "name": "conda-base-py"
  },
  "language_info": {
   "codemirror_mode": {
    "name": "ipython",
    "version": 3
   },
   "file_extension": ".py",
   "mimetype": "text/x-python",
   "name": "python",
   "nbconvert_exporter": "python",
   "pygments_lexer": "ipython3",
   "version": "3.12.7"
  }
 },
 "nbformat": 4,
 "nbformat_minor": 5
}
