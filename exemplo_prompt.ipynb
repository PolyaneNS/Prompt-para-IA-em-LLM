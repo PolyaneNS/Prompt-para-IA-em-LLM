{
 "cells": [
  {
   "cell_type": "code",
   "execution_count": null,
   "id": "8dbe2423-538d-4f26-a84b-8698cfda32cf",
   "metadata": {},
   "outputs": [],
   "source": [
    "pip install openai   #instalando a biblioteca do GPT\n",
    "\n",
    "import openai        #importando a openai p/ usar a API key\n",
    "import os\n",
    "\n",
    "# Defina sua chave de API (nunca compartilhe publicamente!)\n",
    "os.environ[\"OPENAI_API_KEY\"] = \"sua_key\"\n",
    "\n"
   ]
  },
  {
   "cell_type": "code",
   "execution_count": null,
   "id": "adce3add-7c2c-4e2c-8b3d-b7f467fbb5c9",
   "metadata": {},
   "outputs": [],
   "source": [
    "from openai import OpenAI\n",
    "\n",
    "# Cria o cliente\n",
    "\n",
    "#Esse cliente serve para Autenticar suas requisições (usando sua API key); \n",
    "#Manter a configuração (modelo padrão, headers, tempo limite, etc.);\n",
    "#Gerenciar o envio e retorno de dados entre o seu código e os servidores da OpenAI.\n",
    "client = OpenAI(api_key=os.environ[\"OPENAI_API_KEY\"])        \n",
    "#A API da OpenAI é o meio pelo qual você conversa com os LLMs (Large Language Models), como GPT-4, GPT-4o, etc.\n",
    "#Cada vez que você envia um prompt, você está usando a API para acessar o poder computacional e linguístico desses modelos.\n",
    "\n",
    "\n",
    "#API\t  -- Ponte que conecta seu código aos servidores da OpenAI\n",
    "#API Key  -- Sua “senha” pessoal para autenticar e controlar uso\n",
    "#Client\t  -- Objeto Python que envia as mensagens para a API\n",
    "#3Prompt  -- O texto que você envia (pedido)\n",
    "#Response -- A resposta que o modelo retorna"
   ]
  },
  {
   "cell_type": "code",
   "execution_count": null,
   "id": "d45cdb16-ca51-417c-8d4e-68caa92f8b80",
   "metadata": {},
   "outputs": [],
   "source": [
    "\n",
    "prompt = \"\"\"\n",
    "Você é um especilista em analise de dados para negócios.\n",
    "Organize a lista de cargos  .\n",
    "\"\"\"\n",
    "\n",
    "response = client.chat.completions.create(\n",
    "    model=\"gpt-4o-mini\",\n",
    "    messages=[{\"role\": \"user\", \"content\": prompt}]\n",
    ")\n",
    "# Exibe a resposta do modelo\n",
    "print(response.choices[0].message.content)\n"
   ]
  },
  {
   "cell_type": "code",
   "execution_count": null,
   "id": "2eafa71d-f29e-4d63-a7fd-fbe6263910ee",
   "metadata": {},
   "outputs": [],
   "source": [
    "\n",
    "#Acompanhe seus gastos em tempo real em https://platform.openai.com/usage\n"
   ]
  }
 ],
 "metadata": {
  "kernelspec": {
   "display_name": "Python [conda env:base] *",
   "language": "python",
   "name": "conda-base-py"
  },
  "language_info": {
   "codemirror_mode": {
    "name": "ipython",
    "version": 3
   },
   "file_extension": ".py",
   "mimetype": "text/x-python",
   "name": "python",
   "nbconvert_exporter": "python",
   "pygments_lexer": "ipython3",
   "version": "3.12.7"
  }
 },
 "nbformat": 4,
 "nbformat_minor": 5
}
